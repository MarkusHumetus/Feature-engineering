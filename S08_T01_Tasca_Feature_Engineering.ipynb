{
 "cells": [
  {
   "cell_type": "markdown",
   "id": "dcd6be5a",
   "metadata": {},
   "source": [
    "## Descripció"
   ]
  },
  {
   "cell_type": "markdown",
   "id": "81fbe001",
   "metadata": {},
   "source": [
    "Aprèn a gestionar paràmetres amb Python."
   ]
  },
  {
   "cell_type": "markdown",
   "id": "317c79e2",
   "metadata": {},
   "source": [
    "## Nivell 1"
   ]
  },
  {
   "cell_type": "markdown",
   "id": "432690a4",
   "metadata": {},
   "source": [
    "**- Exercici 1:**\n",
    "Agafa un conjunt de dades de tema esportiu que t'agradi i normalitza els atributs categòrics en dummy. Estandaritza els atributs numèrics amb StandardScaler. "
   ]
  },
  {
   "cell_type": "markdown",
   "id": "8cb16a40",
   "metadata": {},
   "source": [
    "Agafo la base de dades emprada a l'exercici anterior dels athletes olímpics, que recull dades dels athletes, competicions que van participar i si van guanyar medalla o no (aprofito que ja està neta de dades nules i l'havia salvada en format csv). "
   ]
  },
  {
   "cell_type": "code",
   "execution_count": 1,
   "id": "0299ceea",
   "metadata": {
    "collapsed": true
   },
   "outputs": [],
   "source": [
    "import matplotlib.pyplot as plt\n",
    "import seaborn as sns\n",
    "import numpy as np\n",
    "import pandas as pd\n",
    "import re\n",
    "%matplotlib inline   "
   ]
  },
  {
   "cell_type": "code",
   "execution_count": 2,
   "id": "07347dc1",
   "metadata": {
    "collapsed": true
   },
   "outputs": [
    {
     "name": "stdout",
     "output_type": "stream",
     "text": [
      "<class 'pandas.core.frame.DataFrame'>\n",
      "RangeIndex: 32374 entries, 0 to 32373\n",
      "Data columns (total 13 columns):\n",
      " #   Column  Non-Null Count  Dtype  \n",
      "---  ------  --------------  -----  \n",
      " 0   ID      32374 non-null  int64  \n",
      " 1   Name    32374 non-null  object \n",
      " 2   Sex     32374 non-null  object \n",
      " 3   Age     32374 non-null  float64\n",
      " 4   Height  32374 non-null  float64\n",
      " 5   Weight  32374 non-null  float64\n",
      " 6   Team    32374 non-null  object \n",
      " 7   NOC     32374 non-null  object \n",
      " 8   Games   32374 non-null  object \n",
      " 9   Year    32374 non-null  int64  \n",
      " 10  City    32374 non-null  object \n",
      " 11  Event   32374 non-null  object \n",
      " 12  Medal   32374 non-null  object \n",
      "dtypes: float64(3), int64(2), object(8)\n",
      "memory usage: 3.2+ MB\n"
     ]
    }
   ],
   "source": [
    "ath_df=pd.read_csv('athletes_olimpics.csv')\n",
    "ath_df.info()"
   ]
  },
  {
   "cell_type": "markdown",
   "id": "ff313108",
   "metadata": {},
   "source": [
    "Generem variables dummy a partir de les variables categòriques de sexe i medalles:"
   ]
  },
  {
   "cell_type": "code",
   "execution_count": 3,
   "id": "df3b4793",
   "metadata": {
    "collapsed": true
   },
   "outputs": [
    {
     "name": "stdout",
     "output_type": "stream",
     "text": [
      "<class 'pandas.core.frame.DataFrame'>\n",
      "RangeIndex: 32374 entries, 0 to 32373\n",
      "Data columns (total 17 columns):\n",
      " #   Column        Non-Null Count  Dtype  \n",
      "---  ------        --------------  -----  \n",
      " 0   ID            32374 non-null  int64  \n",
      " 1   Name          32374 non-null  object \n",
      " 2   Age           32374 non-null  float64\n",
      " 3   Height        32374 non-null  float64\n",
      " 4   Weight        32374 non-null  float64\n",
      " 5   Team          32374 non-null  object \n",
      " 6   NOC           32374 non-null  object \n",
      " 7   Games         32374 non-null  object \n",
      " 8   Year          32374 non-null  int64  \n",
      " 9   City          32374 non-null  object \n",
      " 10  Event         32374 non-null  object \n",
      " 11  Sex_F         32374 non-null  uint8  \n",
      " 12  Sex_M         32374 non-null  uint8  \n",
      " 13  Medal_0       32374 non-null  uint8  \n",
      " 14  Medal_Bronze  32374 non-null  uint8  \n",
      " 15  Medal_Gold    32374 non-null  uint8  \n",
      " 16  Medal_Silver  32374 non-null  uint8  \n",
      "dtypes: float64(3), int64(2), object(6), uint8(6)\n",
      "memory usage: 2.9+ MB\n"
     ]
    }
   ],
   "source": [
    "#La manera més senzilla i directe de fer-ho és amb la funció get_dummies de pandas:\n",
    "ath_df_dummies=pd.get_dummies(ath_df, columns=['Sex', 'Medal'])\n",
    "ath_df_dummies.info()"
   ]
  },
  {
   "cell_type": "code",
   "execution_count": 4,
   "id": "8f3af486",
   "metadata": {
    "collapsed": true
   },
   "outputs": [
    {
     "name": "stdout",
     "output_type": "stream",
     "text": [
      "<class 'pandas.core.frame.DataFrame'>\n",
      "RangeIndex: 32374 entries, 0 to 32373\n",
      "Data columns (total 14 columns):\n",
      " #   Column  Non-Null Count  Dtype  \n",
      "---  ------  --------------  -----  \n",
      " 0   ID      32374 non-null  int64  \n",
      " 1   Name    32374 non-null  object \n",
      " 2   Sex     32374 non-null  object \n",
      " 3   Age     32374 non-null  float64\n",
      " 4   Height  32374 non-null  float64\n",
      " 5   Weight  32374 non-null  float64\n",
      " 6   Team    32374 non-null  object \n",
      " 7   NOC     32374 non-null  object \n",
      " 8   Games   32374 non-null  object \n",
      " 9   Year    32374 non-null  int64  \n",
      " 10  City    32374 non-null  object \n",
      " 11  Event   32374 non-null  object \n",
      " 12  Medal   32374 non-null  object \n",
      " 13  Sex_F   32374 non-null  uint8  \n",
      "dtypes: float64(3), int64(2), object(8), uint8(1)\n",
      "memory usage: 3.2+ MB\n"
     ]
    }
   ],
   "source": [
    "#També es pot fer columna dummy generant columna a columna amb condició, ja sigui directament en pandas o amb la funció de numpy where:\n",
    "ath_df_dummies2=ath_df.copy()\n",
    "#ath_df_dummies2['Sex_F']=[np.uint8(1) if s =='F' else np.uint8(0) for s in ath_df_dummies2['Sex']]\n",
    "ath_df_dummies2['Sex_F'] =np.where(ath_df_dummies2['Sex']=='F', np.uint8(1),np.uint8(0))\n",
    "ath_df_dummies2.info() \n",
    "# d'aquesta manera no es generen columnes dummies redundants si no es dessitja."
   ]
  },
  {
   "cell_type": "markdown",
   "id": "675b1f30",
   "metadata": {},
   "source": [
    "Procedim a estandaritzar els paràmetres d'edat, alçada i pes amb StandardScaler:"
   ]
  },
  {
   "cell_type": "code",
   "execution_count": 5,
   "id": "85541db0",
   "metadata": {
    "collapsed": true
   },
   "outputs": [],
   "source": [
    "from sklearn.preprocessing import StandardScaler"
   ]
  },
  {
   "cell_type": "code",
   "execution_count": 6,
   "id": "aeeeae87",
   "metadata": {
    "collapsed": true
   },
   "outputs": [],
   "source": [
    "# definim standard scaler\n",
    "scaler = StandardScaler()\n"
   ]
  },
  {
   "cell_type": "code",
   "execution_count": 7,
   "id": "fcffcb98",
   "metadata": {
    "collapsed": true
   },
   "outputs": [
    {
     "data": {
      "text/html": [
       "<div>\n",
       "<style scoped>\n",
       "    .dataframe tbody tr th:only-of-type {\n",
       "        vertical-align: middle;\n",
       "    }\n",
       "\n",
       "    .dataframe tbody tr th {\n",
       "        vertical-align: top;\n",
       "    }\n",
       "\n",
       "    .dataframe thead th {\n",
       "        text-align: right;\n",
       "    }\n",
       "</style>\n",
       "<table border=\"1\" class=\"dataframe\">\n",
       "  <thead>\n",
       "    <tr style=\"text-align: right;\">\n",
       "      <th></th>\n",
       "      <th>ID</th>\n",
       "      <th>Name</th>\n",
       "      <th>Age</th>\n",
       "      <th>Height</th>\n",
       "      <th>Weight</th>\n",
       "      <th>Team</th>\n",
       "      <th>NOC</th>\n",
       "      <th>Games</th>\n",
       "      <th>Year</th>\n",
       "      <th>City</th>\n",
       "      <th>Event</th>\n",
       "      <th>Sex_F</th>\n",
       "      <th>Sex_M</th>\n",
       "      <th>Medal_0</th>\n",
       "      <th>Medal_Bronze</th>\n",
       "      <th>Medal_Gold</th>\n",
       "      <th>Medal_Silver</th>\n",
       "      <th>Age_stand</th>\n",
       "      <th>Height_stand</th>\n",
       "      <th>Weight_stand</th>\n",
       "    </tr>\n",
       "  </thead>\n",
       "  <tbody>\n",
       "    <tr>\n",
       "      <th>0</th>\n",
       "      <td>18</td>\n",
       "      <td>Timo Antero Aaltonen</td>\n",
       "      <td>31.0</td>\n",
       "      <td>189.0</td>\n",
       "      <td>130.0</td>\n",
       "      <td>Finland</td>\n",
       "      <td>FIN</td>\n",
       "      <td>2000 Summer</td>\n",
       "      <td>2000</td>\n",
       "      <td>Sydney</td>\n",
       "      <td>Athletics Men's Shot Put</td>\n",
       "      <td>0</td>\n",
       "      <td>1</td>\n",
       "      <td>1</td>\n",
       "      <td>0</td>\n",
       "      <td>0</td>\n",
       "      <td>0</td>\n",
       "      <td>1.286521</td>\n",
       "      <td>1.363081</td>\n",
       "      <td>3.938085</td>\n",
       "    </tr>\n",
       "    <tr>\n",
       "      <th>1</th>\n",
       "      <td>31</td>\n",
       "      <td>Evald rma (rman-)</td>\n",
       "      <td>24.0</td>\n",
       "      <td>174.0</td>\n",
       "      <td>70.0</td>\n",
       "      <td>Estonia</td>\n",
       "      <td>EST</td>\n",
       "      <td>1936 Summer</td>\n",
       "      <td>1936</td>\n",
       "      <td>Berlin</td>\n",
       "      <td>Athletics Men's Pole Vault</td>\n",
       "      <td>0</td>\n",
       "      <td>1</td>\n",
       "      <td>1</td>\n",
       "      <td>0</td>\n",
       "      <td>0</td>\n",
       "      <td>0</td>\n",
       "      <td>-0.301834</td>\n",
       "      <td>-0.243878</td>\n",
       "      <td>0.047098</td>\n",
       "    </tr>\n",
       "    <tr>\n",
       "      <th>2</th>\n",
       "      <td>34</td>\n",
       "      <td>Jamale (Djamel-) Aarrass (Ahrass-)</td>\n",
       "      <td>30.0</td>\n",
       "      <td>187.0</td>\n",
       "      <td>76.0</td>\n",
       "      <td>France</td>\n",
       "      <td>FRA</td>\n",
       "      <td>2012 Summer</td>\n",
       "      <td>2012</td>\n",
       "      <td>London</td>\n",
       "      <td>Athletics Men's 1,500 metres</td>\n",
       "      <td>0</td>\n",
       "      <td>1</td>\n",
       "      <td>1</td>\n",
       "      <td>0</td>\n",
       "      <td>0</td>\n",
       "      <td>0</td>\n",
       "      <td>1.059613</td>\n",
       "      <td>1.148819</td>\n",
       "      <td>0.436197</td>\n",
       "    </tr>\n",
       "    <tr>\n",
       "      <th>3</th>\n",
       "      <td>47</td>\n",
       "      <td>Erling Rudolf Aastad</td>\n",
       "      <td>22.0</td>\n",
       "      <td>177.0</td>\n",
       "      <td>74.0</td>\n",
       "      <td>Norway</td>\n",
       "      <td>NOR</td>\n",
       "      <td>1920 Summer</td>\n",
       "      <td>1920</td>\n",
       "      <td>Antwerpen</td>\n",
       "      <td>Athletics Men's 4 x 100 metres Relay</td>\n",
       "      <td>0</td>\n",
       "      <td>1</td>\n",
       "      <td>1</td>\n",
       "      <td>0</td>\n",
       "      <td>0</td>\n",
       "      <td>0</td>\n",
       "      <td>-0.755649</td>\n",
       "      <td>0.077514</td>\n",
       "      <td>0.306497</td>\n",
       "    </tr>\n",
       "    <tr>\n",
       "      <th>4</th>\n",
       "      <td>47</td>\n",
       "      <td>Erling Rudolf Aastad</td>\n",
       "      <td>22.0</td>\n",
       "      <td>177.0</td>\n",
       "      <td>74.0</td>\n",
       "      <td>Norway</td>\n",
       "      <td>NOR</td>\n",
       "      <td>1920 Summer</td>\n",
       "      <td>1920</td>\n",
       "      <td>Antwerpen</td>\n",
       "      <td>Athletics Men's Long Jump</td>\n",
       "      <td>0</td>\n",
       "      <td>1</td>\n",
       "      <td>1</td>\n",
       "      <td>0</td>\n",
       "      <td>0</td>\n",
       "      <td>0</td>\n",
       "      <td>-0.755649</td>\n",
       "      <td>0.077514</td>\n",
       "      <td>0.306497</td>\n",
       "    </tr>\n",
       "  </tbody>\n",
       "</table>\n",
       "</div>"
      ],
      "text/plain": [
       "   ID                                Name   Age  Height  Weight     Team  NOC  \\\n",
       "0  18                Timo Antero Aaltonen  31.0   189.0   130.0  Finland  FIN   \n",
       "1  31                   Evald rma (rman-)  24.0   174.0    70.0  Estonia  EST   \n",
       "2  34  Jamale (Djamel-) Aarrass (Ahrass-)  30.0   187.0    76.0   France  FRA   \n",
       "3  47                Erling Rudolf Aastad  22.0   177.0    74.0   Norway  NOR   \n",
       "4  47                Erling Rudolf Aastad  22.0   177.0    74.0   Norway  NOR   \n",
       "\n",
       "         Games  Year       City                                 Event  Sex_F  \\\n",
       "0  2000 Summer  2000     Sydney              Athletics Men's Shot Put      0   \n",
       "1  1936 Summer  1936     Berlin            Athletics Men's Pole Vault      0   \n",
       "2  2012 Summer  2012     London          Athletics Men's 1,500 metres      0   \n",
       "3  1920 Summer  1920  Antwerpen  Athletics Men's 4 x 100 metres Relay      0   \n",
       "4  1920 Summer  1920  Antwerpen             Athletics Men's Long Jump      0   \n",
       "\n",
       "   Sex_M  Medal_0  Medal_Bronze  Medal_Gold  Medal_Silver  Age_stand  \\\n",
       "0      1        1             0           0             0   1.286521   \n",
       "1      1        1             0           0             0  -0.301834   \n",
       "2      1        1             0           0             0   1.059613   \n",
       "3      1        1             0           0             0  -0.755649   \n",
       "4      1        1             0           0             0  -0.755649   \n",
       "\n",
       "   Height_stand  Weight_stand  \n",
       "0      1.363081      3.938085  \n",
       "1     -0.243878      0.047098  \n",
       "2      1.148819      0.436197  \n",
       "3      0.077514      0.306497  \n",
       "4      0.077514      0.306497  "
      ]
     },
     "execution_count": 7,
     "metadata": {},
     "output_type": "execute_result"
    }
   ],
   "source": [
    "data = ath_df_dummies.values[:,2:5]#agafem els valors a normalitzar i els transformem\n",
    "data = scaler.fit_transform(data)\n",
    "# convertir l'array en un dataframe i l'incorporem a un nou dataframe que conté afegides les columnes amb valors estandaritzats\n",
    "dataset = pd.DataFrame(data)\n",
    "ath_df_dummies_stand =ath_df_dummies.copy()\n",
    "j=0\n",
    "for i in ['Age_stand', 'Height_stand', 'Weight_stand']:\n",
    "    ath_df_dummies_stand[i]=dataset.iloc[:,j]\n",
    "    j+=1\n",
    "ath_df_dummies_stand.head()"
   ]
  },
  {
   "cell_type": "markdown",
   "id": "be593721",
   "metadata": {},
   "source": [
    "Si mirem la repressentació gràfica de les dades modificades amb les inicials, veiem que tenen una distribució análoga a la graficada inicialment però amb la mateixa escala  (veure Exercici 1 del Srint 7) ."
   ]
  },
  {
   "cell_type": "code",
   "execution_count": 8,
   "id": "a3eb720b",
   "metadata": {
    "collapsed": true
   },
   "outputs": [
    {
     "data": {
      "image/png": "[encoded data removed]",
      "text/plain": [
       "<Figure size 432x288 with 4 Axes>"
      ]
     },
     "metadata": {
      "needs_background": "light"
     },
     "output_type": "display_data"
    }
   ],
   "source": [
    "dataset.hist()\n",
    "plt.show()"
   ]
  },
  {
   "cell_type": "markdown",
   "id": "5ddbe66a",
   "metadata": {},
   "source": []
  },
  {
   "cell_type": "markdown",
   "id": "74649af6",
   "metadata": {},
   "source": [
    "Webs consultades: \n",
    "* https://towardsdatascience.com/3-methods-to-create-conditional-columns-with-python-pandas-and-numpy-a6cd4be9da53\n",
    "* https://www.marsja.se/how-to-use-pandas-get_dummies-to-create-dummy-variables-in-python/\n",
    "* https://machinelearningmastery.com/standardscaler-and-minmaxscaler-transforms-in-python/"
   ]
  },
  {
   "cell_type": "markdown",
   "id": "8496cfc3",
   "metadata": {},
   "source": [
    "## Nivell 2"
   ]
  },
  {
   "cell_type": "markdown",
   "id": "7e66f58e",
   "metadata": {},
   "source": [
    "**- Exercici 2:**\n",
    "Continua amb el conjunt de dades de tema esportiu que t'agradi i aplica l'anàlisi de components principals."
   ]
  },
  {
   "cell_type": "markdown",
   "id": "2d30b77d",
   "metadata": {},
   "source": [
    "Prenem les dades estandaritzades de l'exercici anterior (on data= estandarització de l'edat, alçada i pes). Apliquem l'anàlisis de components principals per a reduir-ne la dimensionalitat a costa de perdre informació de la variança. Els motius per a fer-ho poden ser facilitar la visualització de dades o bé per accelerar l'aplicació d'algoritmes en machine-learning. \n",
    "\n",
    "Fem els exercicis de passar de tres dimensions a dues i de tres a una:"
   ]
  },
  {
   "cell_type": "code",
   "execution_count": 9,
   "id": "09671843",
   "metadata": {
    "collapsed": true
   },
   "outputs": [],
   "source": [
    "from sklearn.decomposition import PCA\n",
    "\n",
    "pca = PCA(n_components=2) # de n dimensions a 2\n",
    "principalComponents = pca.fit_transform(data)\n",
    "principalDf = pd.DataFrame(data = principalComponents\n",
    "             , columns = ['principal component 1', 'principal component 2'])"
   ]
  },
  {
   "cell_type": "code",
   "execution_count": 10,
   "id": "c71de164",
   "metadata": {
    "collapsed": true
   },
   "outputs": [
    {
     "data": {
      "text/html": [
       "<div>\n",
       "<style scoped>\n",
       "    .dataframe tbody tr th:only-of-type {\n",
       "        vertical-align: middle;\n",
       "    }\n",
       "\n",
       "    .dataframe tbody tr th {\n",
       "        vertical-align: top;\n",
       "    }\n",
       "\n",
       "    .dataframe thead th {\n",
       "        text-align: right;\n",
       "    }\n",
       "</style>\n",
       "<table border=\"1\" class=\"dataframe\">\n",
       "  <thead>\n",
       "    <tr style=\"text-align: right;\">\n",
       "      <th></th>\n",
       "      <th>principal component 1</th>\n",
       "      <th>principal component 2</th>\n",
       "    </tr>\n",
       "  </thead>\n",
       "  <tbody>\n",
       "    <tr>\n",
       "      <th>0</th>\n",
       "      <td>3.835545</td>\n",
       "      <td>1.099971</td>\n",
       "    </tr>\n",
       "    <tr>\n",
       "      <th>1</th>\n",
       "      <td>-0.160380</td>\n",
       "      <td>-0.280181</td>\n",
       "    </tr>\n",
       "    <tr>\n",
       "      <th>2</th>\n",
       "      <td>1.194042</td>\n",
       "      <td>0.948527</td>\n",
       "    </tr>\n",
       "    <tr>\n",
       "      <th>3</th>\n",
       "      <td>0.216082</td>\n",
       "      <td>-0.764326</td>\n",
       "    </tr>\n",
       "    <tr>\n",
       "      <th>4</th>\n",
       "      <td>0.216082</td>\n",
       "      <td>-0.764326</td>\n",
       "    </tr>\n",
       "    <tr>\n",
       "      <th>...</th>\n",
       "      <td>...</td>\n",
       "      <td>...</td>\n",
       "    </tr>\n",
       "    <tr>\n",
       "      <th>32369</th>\n",
       "      <td>-0.138158</td>\n",
       "      <td>-0.008589</td>\n",
       "    </tr>\n",
       "    <tr>\n",
       "      <th>32370</th>\n",
       "      <td>-0.072062</td>\n",
       "      <td>0.895484</td>\n",
       "    </tr>\n",
       "    <tr>\n",
       "      <th>32371</th>\n",
       "      <td>-0.005966</td>\n",
       "      <td>1.799556</td>\n",
       "    </tr>\n",
       "    <tr>\n",
       "      <th>32372</th>\n",
       "      <td>-0.744145</td>\n",
       "      <td>-1.376091</td>\n",
       "    </tr>\n",
       "    <tr>\n",
       "      <th>32373</th>\n",
       "      <td>-0.678049</td>\n",
       "      <td>-0.472019</td>\n",
       "    </tr>\n",
       "  </tbody>\n",
       "</table>\n",
       "<p>32374 rows × 2 columns</p>\n",
       "</div>"
      ],
      "text/plain": [
       "       principal component 1  principal component 2\n",
       "0                   3.835545               1.099971\n",
       "1                  -0.160380              -0.280181\n",
       "2                   1.194042               0.948527\n",
       "3                   0.216082              -0.764326\n",
       "4                   0.216082              -0.764326\n",
       "...                      ...                    ...\n",
       "32369              -0.138158              -0.008589\n",
       "32370              -0.072062               0.895484\n",
       "32371              -0.005966               1.799556\n",
       "32372              -0.744145              -1.376091\n",
       "32373              -0.678049              -0.472019\n",
       "\n",
       "[32374 rows x 2 columns]"
      ]
     },
     "execution_count": 10,
     "metadata": {},
     "output_type": "execute_result"
    }
   ],
   "source": [
    "principalDf"
   ]
  },
  {
   "cell_type": "code",
   "execution_count": 11,
   "id": "affd5d4f",
   "metadata": {
    "collapsed": true
   },
   "outputs": [
    {
     "data": {
      "text/html": [
       "<div>\n",
       "<style scoped>\n",
       "    .dataframe tbody tr th:only-of-type {\n",
       "        vertical-align: middle;\n",
       "    }\n",
       "\n",
       "    .dataframe tbody tr th {\n",
       "        vertical-align: top;\n",
       "    }\n",
       "\n",
       "    .dataframe thead th {\n",
       "        text-align: right;\n",
       "    }\n",
       "</style>\n",
       "<table border=\"1\" class=\"dataframe\">\n",
       "  <thead>\n",
       "    <tr style=\"text-align: right;\">\n",
       "      <th></th>\n",
       "      <th>principal component</th>\n",
       "    </tr>\n",
       "  </thead>\n",
       "  <tbody>\n",
       "    <tr>\n",
       "      <th>0</th>\n",
       "      <td>3.835545</td>\n",
       "    </tr>\n",
       "    <tr>\n",
       "      <th>1</th>\n",
       "      <td>-0.160380</td>\n",
       "    </tr>\n",
       "    <tr>\n",
       "      <th>2</th>\n",
       "      <td>1.194042</td>\n",
       "    </tr>\n",
       "    <tr>\n",
       "      <th>3</th>\n",
       "      <td>0.216082</td>\n",
       "    </tr>\n",
       "    <tr>\n",
       "      <th>4</th>\n",
       "      <td>0.216082</td>\n",
       "    </tr>\n",
       "    <tr>\n",
       "      <th>...</th>\n",
       "      <td>...</td>\n",
       "    </tr>\n",
       "    <tr>\n",
       "      <th>32369</th>\n",
       "      <td>-0.138158</td>\n",
       "    </tr>\n",
       "    <tr>\n",
       "      <th>32370</th>\n",
       "      <td>-0.072062</td>\n",
       "    </tr>\n",
       "    <tr>\n",
       "      <th>32371</th>\n",
       "      <td>-0.005966</td>\n",
       "    </tr>\n",
       "    <tr>\n",
       "      <th>32372</th>\n",
       "      <td>-0.744145</td>\n",
       "    </tr>\n",
       "    <tr>\n",
       "      <th>32373</th>\n",
       "      <td>-0.678049</td>\n",
       "    </tr>\n",
       "  </tbody>\n",
       "</table>\n",
       "<p>32374 rows × 1 columns</p>\n",
       "</div>"
      ],
      "text/plain": [
       "       principal component\n",
       "0                 3.835545\n",
       "1                -0.160380\n",
       "2                 1.194042\n",
       "3                 0.216082\n",
       "4                 0.216082\n",
       "...                    ...\n",
       "32369            -0.138158\n",
       "32370            -0.072062\n",
       "32371            -0.005966\n",
       "32372            -0.744145\n",
       "32373            -0.678049\n",
       "\n",
       "[32374 rows x 1 columns]"
      ]
     },
     "execution_count": 11,
     "metadata": {},
     "output_type": "execute_result"
    }
   ],
   "source": [
    "pca = PCA(n_components=1)  # de n dimensions a 1\n",
    "principalComponents = pca.fit_transform(data)\n",
    "principalDf = pd.DataFrame(data = principalComponents\n",
    "             , columns = ['principal component'])\n",
    "principalDf\n"
   ]
  },
  {
   "cell_type": "markdown",
   "id": "62e0319f",
   "metadata": {},
   "source": [
    "Webs consultades:\n",
    "* https://towardsdatascience.com/pca-using-python-scikit-learn-e653f8989e60\n"
   ]
  },
  {
   "cell_type": "markdown",
   "id": "b68e6fbb",
   "metadata": {},
   "source": [
    "## Nivell 3"
   ]
  },
  {
   "cell_type": "markdown",
   "id": "208af839",
   "metadata": {},
   "source": [
    "**- Exercici 3:**\n",
    "Continua amb el conjunt de dades de tema esportiu que t'agradi i normalitza les dades tenint en compte els outliers."
   ]
  },
  {
   "cell_type": "markdown",
   "id": "b5ddc1c0",
   "metadata": {},
   "source": [
    "Per a la normalització de dades tenint outliers, el millor es fer una estandarització robusta o un escalat de dades robustes. Amb PYthon això s'aconsegueix amb la funció RobustScaler implementada a la llibreria Sklearn."
   ]
  },
  {
   "cell_type": "code",
   "execution_count": 12,
   "id": "5bf78803",
   "metadata": {
    "collapsed": true
   },
   "outputs": [
    {
     "name": "stdout",
     "output_type": "stream",
     "text": [
      "                  0             1             2\n",
      "count  32374.000000  32374.000000  32374.000000\n",
      "mean       0.055034      0.021266      0.133749\n",
      "std        0.734524      0.718042      0.907088\n",
      "min       -2.166667     -2.615385     -1.882353\n",
      "25%       -0.500000     -0.461538     -0.470588\n",
      "50%        0.000000      0.000000      0.000000\n",
      "75%        0.500000      0.538462      0.529412\n",
      "max        4.500000      2.461538      5.764706\n"
     ]
    },
    {
     "data": {
      "image/png": "[encoded data removed]",
      "text/plain": [
       "<Figure size 432x288 with 4 Axes>"
      ]
     },
     "metadata": {
      "needs_background": "light"
     },
     "output_type": "display_data"
    }
   ],
   "source": [
    "from sklearn.preprocessing import RobustScaler\n",
    "data = ath_df_dummies.values[:,2:5]#agafem els paràmetres (edat, alçada i pes) a normalitzar \n",
    "trans = RobustScaler()\n",
    "data = trans.fit_transform(data)\n",
    "# convertim array a dataframe i visualitzem les dades estadístiques rellevants\n",
    "dataset = pd.DataFrame(data)\n",
    "print(dataset.describe())\n",
    "# histograma de les variables\n",
    "dataset.hist()\n",
    "plt.show()\n"
   ]
  },
  {
   "cell_type": "markdown",
   "id": "3b4fa81f",
   "metadata": {},
   "source": [
    "Webs consultades més rellevants:\n",
    "   * https://www.delftstack.com/es/howto/python-pandas/pandas-normalize/\n",
    "   * https://aprendeia.com/limpieza-y-procesamiento-de-datos-con-codigo-en-python/\n",
    "   * https://machinelearningmastery.com/robust-scaler-transforms-for-machine-learning/"
   ]
  }
 ],
 "metadata": {
  "kernelspec": {
   "display_name": "Python 3 (ipykernel)",
   "language": "python",
   "name": "python3"
  },
  "language_info": {
   "codemirror_mode": {
    "name": "ipython",
    "version": 3
   },
   "file_extension": ".py",
   "mimetype": "text/x-python",
   "name": "python",
   "nbconvert_exporter": "python",
   "pygments_lexer": "ipython3",
   "version": "3.9.7"
  }
 },
 "nbformat": 4,
 "nbformat_minor": 5
}
